{
  "nbformat": 4,
  "nbformat_minor": 0,
  "metadata": {
    "colab": {
      "provenance": [],
      "authorship_tag": "ABX9TyN/Gj0veyJeh8SknU94mfsD",
      "include_colab_link": true
    },
    "kernelspec": {
      "name": "python3",
      "display_name": "Python 3"
    },
    "language_info": {
      "name": "python"
    }
  },
  "cells": [
    {
      "cell_type": "markdown",
      "metadata": {
        "id": "view-in-github",
        "colab_type": "text"
      },
      "source": [
        "<a href=\"https://colab.research.google.com/github/amirthamini/pytorch/blob/main/basic_neural_network.ipynb\" target=\"_parent\"><img src=\"https://colab.research.google.com/assets/colab-badge.svg\" alt=\"Open In Colab\"/></a>"
      ]
    },
    {
      "cell_type": "code",
      "execution_count": 3,
      "metadata": {
        "id": "hzMV8M0w9e-n"
      },
      "outputs": [],
      "source": [
        "#what is neural network ??\n",
        "# it is the layer where the model used to build using functions\n",
        "#only neurons available\n",
        "#eg if the image given in the input layer in hidden layer it used to process\n",
        "#the pixel ,edges, and identify what the given image is"
      ]
    },
    {
      "cell_type": "code",
      "source": [
        "only"
      ],
      "metadata": {
        "id": "C2jx90ZPOHyc"
      },
      "execution_count": null,
      "outputs": []
    }
  ]
}